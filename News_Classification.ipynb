{
  "nbformat": 4,
  "nbformat_minor": 0,
  "metadata": {
    "colab": {
      "name": "News Classification.ipynb",
      "provenance": [],
      "authorship_tag": "ABX9TyPufmGHSm0qc7kOS+7jY4Kr",
      "include_colab_link": true
    },
    "kernelspec": {
      "name": "python3",
      "display_name": "Python 3"
    },
    "language_info": {
      "name": "python"
    }
  },
  "cells": [
    {
      "cell_type": "markdown",
      "metadata": {
        "id": "view-in-github",
        "colab_type": "text"
      },
      "source": [
        "<a href=\"https://colab.research.google.com/github/noiravee/News-article-Classification/blob/main/News_Classification.ipynb\" target=\"_parent\"><img src=\"https://colab.research.google.com/assets/colab-badge.svg\" alt=\"Open In Colab\"/></a>"
      ]
    },
    {
      "cell_type": "markdown",
      "metadata": {
        "id": "j1C35rZhLyqq"
      },
      "source": [
        "# 로이터 뉴스데이터셋 분류(LSTM) 코드 스터디\n",
        "\n",
        "출처: 모두의 딥러닝(2판)\n",
        "\n",
        "\n"
      ]
    },
    {
      "cell_type": "code",
      "metadata": {
        "colab": {
          "base_uri": "https://localhost:8080/"
        },
        "id": "DGbll1u2pJN7",
        "outputId": "ce1396c0-6dd2-47f6-b1fd-bec699c008da"
      },
      "source": [
        "from google.colab import drive\n",
        "drive.mount('/content/drive')"
      ],
      "execution_count": 20,
      "outputs": [
        {
          "output_type": "stream",
          "text": [
            "Drive already mounted at /content/drive; to attempt to forcibly remount, call drive.mount(\"/content/drive\", force_remount=True).\n"
          ],
          "name": "stdout"
        }
      ]
    },
    {
      "cell_type": "code",
      "metadata": {
        "id": "rcibVczyq2SR"
      },
      "source": [
        "from tensorflow.keras.datasets import reuters\n",
        "import matplotlib.pyplot as plt\n",
        "import numpy as np\n",
        "import seaborn as sns\n",
        "%matplotlib inline"
      ],
      "execution_count": 15,
      "outputs": []
    },
    {
      "cell_type": "code",
      "metadata": {
        "colab": {
          "base_uri": "https://localhost:8080/"
        },
        "id": "UoBsGp8PsByi",
        "outputId": "5f594012-1f31-44e0-dded-5c37b8f4146c"
      },
      "source": [
        "(X_train, y_train), (X_test, y_test)= reuters.load_data(num_words=None, test_split=0.2)"
      ],
      "execution_count": 4,
      "outputs": [
        {
          "output_type": "stream",
          "text": [
            "Downloading data from https://storage.googleapis.com/tensorflow/tf-keras-datasets/reuters.npz\n",
            "2113536/2110848 [==============================] - 0s 0us/step\n"
          ],
          "name": "stdout"
        },
        {
          "output_type": "stream",
          "text": [
            "/usr/local/lib/python3.7/dist-packages/tensorflow/python/keras/datasets/reuters.py:148: VisibleDeprecationWarning: Creating an ndarray from ragged nested sequences (which is a list-or-tuple of lists-or-tuples-or ndarrays with different lengths or shapes) is deprecated. If you meant to do this, you must specify 'dtype=object' when creating the ndarray\n",
            "  x_train, y_train = np.array(xs[:idx]), np.array(labels[:idx])\n",
            "/usr/local/lib/python3.7/dist-packages/tensorflow/python/keras/datasets/reuters.py:149: VisibleDeprecationWarning: Creating an ndarray from ragged nested sequences (which is a list-or-tuple of lists-or-tuples-or ndarrays with different lengths or shapes) is deprecated. If you meant to do this, you must specify 'dtype=object' when creating the ndarray\n",
            "  x_test, y_test = np.array(xs[idx:]), np.array(labels[idx:])\n"
          ],
          "name": "stderr"
        }
      ]
    },
    {
      "cell_type": "code",
      "metadata": {
        "colab": {
          "base_uri": "https://localhost:8080/"
        },
        "id": "tLP2mtCTsO9Y",
        "outputId": "f2e1922d-5882-40ff-826d-3d3d44496d09"
      },
      "source": [
        "print(len(X_train))\n",
        "print(len(X_test))\n"
      ],
      "execution_count": 6,
      "outputs": [
        {
          "output_type": "stream",
          "text": [
            "8982\n",
            "2246\n"
          ],
          "name": "stdout"
        }
      ]
    },
    {
      "cell_type": "code",
      "metadata": {
        "colab": {
          "base_uri": "https://localhost:8080/"
        },
        "id": "C0m7uh9mscy2",
        "outputId": "2506598a-756e-4dd9-88f7-184c9bdcf3c1"
      },
      "source": [
        "X_train"
      ],
      "execution_count": 8,
      "outputs": [
        {
          "output_type": "execute_result",
          "data": {
            "text/plain": [
              "array([list([1, 27595, 28842, 8, 43, 10, 447, 5, 25, 207, 270, 5, 3095, 111, 16, 369, 186, 90, 67, 7, 89, 5, 19, 102, 6, 19, 124, 15, 90, 67, 84, 22, 482, 26, 7, 48, 4, 49, 8, 864, 39, 209, 154, 6, 151, 6, 83, 11, 15, 22, 155, 11, 15, 7, 48, 9, 4579, 1005, 504, 6, 258, 6, 272, 11, 15, 22, 134, 44, 11, 15, 16, 8, 197, 1245, 90, 67, 52, 29, 209, 30, 32, 132, 6, 109, 15, 17, 12]),\n",
              "       list([1, 3267, 699, 3434, 2295, 56, 16784, 7511, 9, 56, 3906, 1073, 81, 5, 1198, 57, 366, 737, 132, 20, 4093, 7, 19261, 49, 2295, 13415, 1037, 3267, 699, 3434, 8, 7, 10, 241, 16, 855, 129, 231, 783, 5, 4, 587, 2295, 13415, 30625, 775, 7, 48, 34, 191, 44, 35, 1795, 505, 17, 12]),\n",
              "       list([1, 53, 12, 284, 15, 14, 272, 26, 53, 959, 32, 818, 15, 14, 272, 26, 39, 684, 70, 11, 14, 12, 3886, 18, 180, 183, 187, 70, 11, 14, 102, 32, 11, 29, 53, 44, 704, 15, 14, 19, 758, 15, 53, 959, 47, 1013, 15, 14, 19, 132, 15, 39, 965, 32, 11, 14, 147, 72, 11, 180, 183, 187, 44, 11, 14, 102, 19, 11, 123, 186, 90, 67, 960, 4, 78, 13, 68, 467, 511, 110, 59, 89, 90, 67, 1390, 55, 2678, 92, 617, 80, 1274, 46, 905, 220, 13, 4, 346, 48, 235, 629, 5, 211, 5, 1118, 7, 11733, 81, 5, 187, 11, 15, 9, 1709, 201, 5, 47, 3615, 18, 478, 4514, 5, 1118, 7, 232, 13051, 71, 5, 160, 63, 11, 9, 26503, 81, 5, 102, 59, 11, 17, 12]),\n",
              "       ...,\n",
              "       list([1, 141, 3890, 387, 81, 8, 16, 1629, 10, 340, 1241, 850, 31, 56, 3890, 691, 9, 1241, 71, 9, 5985, 16338, 19170, 699, 19886, 13441, 18064, 699, 244, 5945, 4, 49, 8, 4, 656, 850, 33, 2993, 9, 2139, 340, 3371, 1493, 9, 17870, 22, 16964, 1094, 687, 83, 35, 15, 257, 6, 57, 9190, 7, 4, 5956, 654, 5, 17822, 6191, 1371, 4, 49, 8, 16, 369, 646, 6, 1076, 7, 124, 407, 17, 12]),\n",
              "       list([1, 53, 46, 957, 26, 14, 74, 132, 26, 39, 46, 258, 3614, 18, 14, 74, 134, 5131, 18, 88, 2321, 72, 11, 14, 1842, 32, 11, 123, 383, 89, 39, 46, 235, 10, 864, 728, 5, 258, 44, 11, 15, 22, 753, 9, 42, 92, 131, 728, 5, 69, 312, 11, 15, 22, 222, 10964, 3237, 383, 48, 39, 74, 235, 10, 864, 276, 5, 61, 32, 11, 15, 21, 4, 211, 5, 126, 1072, 42, 92, 131, 46, 19, 352, 11, 15, 22, 710, 220, 9, 42, 92, 131, 276, 5, 59, 61, 11, 15, 22, 10, 455, 7, 1172, 137, 336, 1325, 6, 1532, 142, 971, 6463, 43, 359, 5, 4, 326, 753, 364, 17, 12]),\n",
              "       list([1, 227, 2406, 91, 21969, 125, 2855, 21, 4, 3976, 76, 7, 4, 757, 481, 3976, 790, 5259, 5654, 9, 111, 149, 8, 7, 10, 76, 223, 51, 4, 417, 8, 1047, 91, 6917, 1688, 340, 7, 194, 9411, 6, 1894, 21, 127, 2151, 2394, 1456, 6, 3034, 4, 329, 433, 7, 65, 87, 1127, 10, 8219, 1475, 290, 9, 21, 567, 16, 1926, 24, 4, 76, 209, 30, 4033, 6655, 5654, 8, 4, 60, 8, 4, 966, 308, 40, 2575, 129, 15562, 295, 277, 1071, 9, 24, 286, 2114, 234, 222, 9, 4, 906, 3994, 8519, 114, 5758, 1752, 7, 4, 113, 17, 12])],\n",
              "      dtype=object)"
            ]
          },
          "metadata": {
            "tags": []
          },
          "execution_count": 8
        }
      ]
    },
    {
      "cell_type": "code",
      "metadata": {
        "colab": {
          "base_uri": "https://localhost:8080/"
        },
        "id": "-dNG8_JTsilm",
        "outputId": "a832f9c2-6651-412b-e57a-2299c1ee75f7"
      },
      "source": [
        "y_train"
      ],
      "execution_count": 9,
      "outputs": [
        {
          "output_type": "execute_result",
          "data": {
            "text/plain": [
              "array([ 3,  4,  3, ..., 25,  3, 25])"
            ]
          },
          "metadata": {
            "tags": []
          },
          "execution_count": 9
        }
      ]
    },
    {
      "cell_type": "code",
      "metadata": {
        "colab": {
          "base_uri": "https://localhost:8080/",
          "height": 311
        },
        "id": "8WqKkmkiswu3",
        "outputId": "12b3a5ca-9f24-4b00-a0c6-e17f824a79b4"
      },
      "source": [
        "print(max(len(l) for l in X_train))\n",
        "print(sum(map(len,X_train))/len(X_train))\n",
        "\n",
        "\n",
        "plt.hist([len(s) for s in X_train], bins=50)\n",
        "plt.xlabel('length of samples')\n",
        "plt.ylabel('number of samples')\n",
        "plt.show()"
      ],
      "execution_count": 13,
      "outputs": [
        {
          "output_type": "stream",
          "text": [
            "2376\n",
            "145.5398574927633\n"
          ],
          "name": "stdout"
        },
        {
          "output_type": "display_data",
          "data": {
            "image/png": "[encoded data removed]",
            "text/plain": [
              "<Figure size 432x288 with 1 Axes>"
            ]
          },
          "metadata": {
            "tags": [],
            "needs_background": "light"
          }
        }
      ]
    },
    {
      "cell_type": "code",
      "metadata": {
        "colab": {
          "base_uri": "https://localhost:8080/",
          "height": 378
        },
        "id": "YnLxA0M2usPR",
        "outputId": "5036f9fa-10cb-4576-deae-9038eb28961e"
      },
      "source": [
        "fig, axe =plt.subplots(ncols=1)\n",
        "fig.set_size_inches(12,5)\n",
        "sns.countplot(y_train)"
      ],
      "execution_count": 15,
      "outputs": [
        {
          "output_type": "stream",
          "text": [
            "/usr/local/lib/python3.7/dist-packages/seaborn/_decorators.py:43: FutureWarning: Pass the following variable as a keyword arg: x. From version 0.12, the only valid positional argument will be `data`, and passing other arguments without an explicit keyword will result in an error or misinterpretation.\n",
            "  FutureWarning\n"
          ],
          "name": "stderr"
        },
        {
          "output_type": "execute_result",
          "data": {
            "text/plain": [
              "<matplotlib.axes._subplots.AxesSubplot at 0x7f919e92e650>"
            ]
          },
          "metadata": {
            "tags": []
          },
          "execution_count": 15
        },
        {
          "output_type": "display_data",
          "data": {
            "image/png": "[encoded data removed]",
            "text/plain": [
              "<Figure size 864x360 with 1 Axes>"
            ]
          },
          "metadata": {
            "tags": [],
            "needs_background": "light"
          }
        }
      ]
    },
    {
      "cell_type": "code",
      "metadata": {
        "colab": {
          "base_uri": "https://localhost:8080/"
        },
        "id": "OrGmeO3j2TQQ",
        "outputId": "4176f5ea-aed3-4986-c144-406ff88598ff"
      },
      "source": [
        "unique_elements, counts_elements= np.unique(y_train, return_counts=True)\n",
        "print(np.asarray(counts_elements))"
      ],
      "execution_count": 17,
      "outputs": [
        {
          "output_type": "stream",
          "text": [
            "[  55  432   74 3159 1949   17   48   16  139  101  124  390   49  172\n",
            "   26   20  444   39   66  549  269  100   15   41   62   92   24   15\n",
            "   48   19   45   39   32   11   50   10   49   19   19   24   36   30\n",
            "   13   21   12   18]\n"
          ],
          "name": "stdout"
        }
      ]
    },
    {
      "cell_type": "code",
      "metadata": {
        "id": "0CLPhsbl4LIT"
      },
      "source": [
        "word_to_index= reuters.get_word_index()\n"
      ],
      "execution_count": 23,
      "outputs": []
    },
    {
      "cell_type": "code",
      "metadata": {
        "id": "cDAm_nU68AJA"
      },
      "source": [
        "index_to_word={}\n",
        "for key, value in word_to_index.items():\n",
        "  index_to_word[value]=key"
      ],
      "execution_count": 32,
      "outputs": []
    },
    {
      "cell_type": "code",
      "metadata": {
        "colab": {
          "base_uri": "https://localhost:8080/"
        },
        "id": "li_DQMnC4Tby",
        "outputId": "a88f7f35-fb9b-46fb-cf23-99461021454a"
      },
      "source": [
        "for index, token in enumerate((\"<pad>\", \"<sos>\", \"<unk>\")):\n",
        "  index_to_word[index]=token\n",
        "\n",
        "print(' '.join([index_to_word[index] for index in X_train[0]]))"
      ],
      "execution_count": 34,
      "outputs": [
        {
          "output_type": "stream",
          "text": [
            "<sos> wattie nondiscriminatory mln loss for plc said at only ended said commonwealth could 1 traders now april 0 a after said from 1985 and from foreign 000 april 0 prices its account year a but in this mln home an states earlier and rise and revs vs 000 its 16 vs 000 a but 3 psbr oils several and shareholders and dividend vs 000 its all 4 vs 000 1 mln agreed largely april 0 are 2 states will billion total and against 000 pct dlrs\n"
          ],
          "name": "stdout"
        }
      ]
    },
    {
      "cell_type": "markdown",
      "metadata": {
        "id": "ZTv42gHs8_c0"
      },
      "source": [
        "classification by LSTM"
      ]
    },
    {
      "cell_type": "code",
      "metadata": {
        "id": "zkaxZVSI893R"
      },
      "source": [
        "from tensorflow.keras.datasets import reuters\n",
        "from tensorflow.keras.models import Sequential\n",
        "from tensorflow.keras.layers import Dense, LSTM, Embedding\n",
        "from tensorflow.keras.preprocessing.sequence import pad_sequences\n",
        "from tensorflow.keras.utils import to_categorical\n",
        "from tensorflow.keras.callbacks import EarlyStopping, ModelCheckpoint\n",
        "from tensorflow.keras.models import load_model"
      ],
      "execution_count": 1,
      "outputs": []
    },
    {
      "cell_type": "code",
      "metadata": {
        "colab": {
          "base_uri": "https://localhost:8080/"
        },
        "id": "pBuYklBtF9mO",
        "outputId": "50f0c441-4013-404d-da0b-2ed673fd5a3d"
      },
      "source": [
        "(X_train, y_train), (X_test, y_test)= reuters.load_data(num_words=1000, test_split=0.2)"
      ],
      "execution_count": 2,
      "outputs": [
        {
          "output_type": "stream",
          "text": [
            "/usr/local/lib/python3.7/dist-packages/tensorflow/python/keras/datasets/reuters.py:148: VisibleDeprecationWarning: Creating an ndarray from ragged nested sequences (which is a list-or-tuple of lists-or-tuples-or ndarrays with different lengths or shapes) is deprecated. If you meant to do this, you must specify 'dtype=object' when creating the ndarray\n",
            "  x_train, y_train = np.array(xs[:idx]), np.array(labels[:idx])\n",
            "/usr/local/lib/python3.7/dist-packages/tensorflow/python/keras/datasets/reuters.py:149: VisibleDeprecationWarning: Creating an ndarray from ragged nested sequences (which is a list-or-tuple of lists-or-tuples-or ndarrays with different lengths or shapes) is deprecated. If you meant to do this, you must specify 'dtype=object' when creating the ndarray\n",
            "  x_test, y_test = np.array(xs[idx:]), np.array(labels[idx:])\n"
          ],
          "name": "stderr"
        }
      ]
    },
    {
      "cell_type": "code",
      "metadata": {
        "id": "WabhMUf39ML5"
      },
      "source": [
        "from keras.preprocessing import sequence\n",
        "\n",
        "max_len= 100\n",
        "X_train= pad_sequences(X_train, maxlen=max_len) #훈련용 뉴스기사 패딩\n",
        "X_test= pad_sequences(X_test, maxlen=max_len) #테스트용 뉴스기사 패딩\n",
        "\n",
        "# 뉴스기사 단어수가 100개가 넘으면 100개만 선택, 나머지는 제거, 100보다 부족하면 부족한 부분 0으로 패딩"
      ],
      "execution_count": 3,
      "outputs": []
    },
    {
      "cell_type": "code",
      "metadata": {
        "id": "PSw-cSHi9Jss"
      },
      "source": [
        "y_train= to_categorical(y_train) #훈련용 뉴스기사 레이블 원핫인코딩\n",
        "y_test= to_categorical(y_test) #테스트용 뉴스기사 레이블 원핫인코딩"
      ],
      "execution_count": 4,
      "outputs": []
    },
    {
      "cell_type": "code",
      "metadata": {
        "id": "1qqzie_q9oBI"
      },
      "source": [
        "model=Sequential()\n",
        "model.add(Embedding(1000,120))\n",
        "model.add(LSTM(100, activation='tanh'))\n",
        "model.add(Dense(46, activation='softmax'))"
      ],
      "execution_count": 5,
      "outputs": []
    },
    {
      "cell_type": "code",
      "metadata": {
        "id": "8gGX-sTh-GmJ"
      },
      "source": [
        "es= EarlyStopping(monitor= 'val_loss', mode='min',verbose=1, patience=4)\n",
        "mc= ModelCheckpoint('best_model.h5', monitor='val_acc', mode='max', verbose=1, save_best_only=True)"
      ],
      "execution_count": 6,
      "outputs": []
    },
    {
      "cell_type": "code",
      "metadata": {
        "id": "gkMkN8g5_JRI"
      },
      "source": [
        "model.compile(loss='categorical_crossentropy', optimizer='adam', metrics=['accuracy'])\n"
      ],
      "execution_count": 7,
      "outputs": []
    },
    {
      "cell_type": "code",
      "metadata": {
        "colab": {
          "base_uri": "https://localhost:8080/"
        },
        "id": "HiknYo5Q_VbD",
        "outputId": "fa804082-d0e1-4705-9b49-7974847f448b"
      },
      "source": [
        "history = model.fit(X_train, y_train, batch_size=100, epochs=20, validation_data=(X_test, y_test))\n"
      ],
      "execution_count": 8,
      "outputs": [
        {
          "output_type": "stream",
          "text": [
            "Epoch 1/20\n",
            "90/90 [==============================] - 22s 217ms/step - loss: 2.9668 - accuracy: 0.3259 - val_loss: 2.0671 - val_accuracy: 0.4626\n",
            "Epoch 2/20\n",
            "90/90 [==============================] - 19s 209ms/step - loss: 2.0128 - accuracy: 0.4779 - val_loss: 1.8810 - val_accuracy: 0.5134\n",
            "Epoch 3/20\n",
            "90/90 [==============================] - 19s 207ms/step - loss: 1.7904 - accuracy: 0.5267 - val_loss: 1.7691 - val_accuracy: 0.5432\n",
            "Epoch 4/20\n",
            "90/90 [==============================] - 19s 211ms/step - loss: 1.6980 - accuracy: 0.5513 - val_loss: 1.7509 - val_accuracy: 0.5539\n",
            "Epoch 5/20\n",
            "90/90 [==============================] - 19s 209ms/step - loss: 1.6658 - accuracy: 0.5684 - val_loss: 1.6814 - val_accuracy: 0.5628\n",
            "Epoch 6/20\n",
            "90/90 [==============================] - 19s 211ms/step - loss: 1.5839 - accuracy: 0.5970 - val_loss: 1.6818 - val_accuracy: 0.5770\n",
            "Epoch 7/20\n",
            "90/90 [==============================] - 19s 209ms/step - loss: 1.5452 - accuracy: 0.6150 - val_loss: 1.4919 - val_accuracy: 0.6291\n",
            "Epoch 8/20\n",
            "90/90 [==============================] - 19s 213ms/step - loss: 1.3908 - accuracy: 0.6501 - val_loss: 1.4089 - val_accuracy: 0.6402\n",
            "Epoch 9/20\n",
            "90/90 [==============================] - 19s 210ms/step - loss: 1.2651 - accuracy: 0.6698 - val_loss: 1.3492 - val_accuracy: 0.6661\n",
            "Epoch 10/20\n",
            "90/90 [==============================] - 19s 209ms/step - loss: 1.1506 - accuracy: 0.7019 - val_loss: 1.2929 - val_accuracy: 0.6745\n",
            "Epoch 11/20\n",
            "90/90 [==============================] - 19s 210ms/step - loss: 1.1087 - accuracy: 0.7213 - val_loss: 1.3253 - val_accuracy: 0.6714\n",
            "Epoch 12/20\n",
            "90/90 [==============================] - 19s 209ms/step - loss: 1.0398 - accuracy: 0.7342 - val_loss: 1.2502 - val_accuracy: 0.6803\n",
            "Epoch 13/20\n",
            "90/90 [==============================] - 19s 211ms/step - loss: 0.9995 - accuracy: 0.7369 - val_loss: 1.2405 - val_accuracy: 0.6866\n",
            "Epoch 14/20\n",
            "90/90 [==============================] - 19s 210ms/step - loss: 1.0044 - accuracy: 0.7436 - val_loss: 1.2441 - val_accuracy: 0.6937\n",
            "Epoch 15/20\n",
            "90/90 [==============================] - 19s 212ms/step - loss: 0.9101 - accuracy: 0.7650 - val_loss: 1.1894 - val_accuracy: 0.6972\n",
            "Epoch 16/20\n",
            "90/90 [==============================] - 19s 213ms/step - loss: 0.8600 - accuracy: 0.7784 - val_loss: 1.2037 - val_accuracy: 0.7017\n",
            "Epoch 17/20\n",
            "90/90 [==============================] - 19s 212ms/step - loss: 0.8516 - accuracy: 0.7828 - val_loss: 1.2412 - val_accuracy: 0.7004\n",
            "Epoch 18/20\n",
            "90/90 [==============================] - 19s 211ms/step - loss: 0.8180 - accuracy: 0.7916 - val_loss: 1.2164 - val_accuracy: 0.7053\n",
            "Epoch 19/20\n",
            "90/90 [==============================] - 19s 210ms/step - loss: 0.7759 - accuracy: 0.8078 - val_loss: 1.2227 - val_accuracy: 0.7039\n",
            "Epoch 20/20\n",
            "90/90 [==============================] - 19s 211ms/step - loss: 0.7360 - accuracy: 0.8135 - val_loss: 1.2190 - val_accuracy: 0.7021\n"
          ],
          "name": "stdout"
        }
      ]
    },
    {
      "cell_type": "code",
      "metadata": {
        "colab": {
          "base_uri": "https://localhost:8080/"
        },
        "id": "Apo-R4b3_XFE",
        "outputId": "9dde34a7-9dfc-4232-fc4a-4b586a76fb1a"
      },
      "source": [
        "\n",
        "print(\"\\n 테스트 정확도: %.4f\" % (model.evaluate(X_test, y_test)[1]))\n"
      ],
      "execution_count": 10,
      "outputs": [
        {
          "output_type": "stream",
          "text": [
            "71/71 [==============================] - 1s 21ms/step - loss: 1.2190 - accuracy: 0.7021\n",
            "\n",
            " 테스트 정확도: 0.7021\n"
          ],
          "name": "stdout"
        }
      ]
    },
    {
      "cell_type": "code",
      "metadata": {
        "id": "F4crsfSZKY4E"
      },
      "source": [
        "y_vloss=history.history['val_loss']  #테스트셋 오차"
      ],
      "execution_count": 18,
      "outputs": []
    },
    {
      "cell_type": "code",
      "metadata": {
        "id": "lvcFEsyH_cMC"
      },
      "source": [
        "y_loss=history.history['loss'] #학습셋 오차\n"
      ],
      "execution_count": 11,
      "outputs": []
    },
    {
      "cell_type": "code",
      "metadata": {
        "colab": {
          "base_uri": "https://localhost:8080/",
          "height": 278
        },
        "id": "5hNjsT48J0hz",
        "outputId": "14dfaa4a-3578-49a5-f0ab-dbcd3b276c9b"
      },
      "source": [
        "import numpy as np\n",
        "\n",
        "x_len=np.arange(len(y_loss))\n",
        "plt.plot(x_len, y_vloss, marker='.', c=\"red\", label='Testset_loss')\n",
        "plt.plot(x_len, y_loss, marker='.', c=\"blue\", label='Trainset_loss')\n",
        "\n",
        "plt.legend(loc='upper right')\n",
        "plt.grid()\n",
        "plt.xlabel('epoch')\n",
        "plt.ylabel('loss')\n",
        "plt.show()"
      ],
      "execution_count": 19,
      "outputs": [
        {
          "output_type": "display_data",
          "data": {
            "image/png": "[encoded data removed]",
            "text/plain": [
              "<Figure size 432x288 with 1 Axes>"
            ]
          },
          "metadata": {
            "tags": [],
            "needs_background": "light"
          }
        }
      ]
    },
    {
      "cell_type": "code",
      "metadata": {
        "id": "NtNCeUl4KLw2"
      },
      "source": [
        ""
      ],
      "execution_count": null,
      "outputs": []
    },
    {
      "cell_type": "markdown",
      "metadata": {
        "id": "hkpsQUwgM0TH"
      },
      "source": [
        "# 한국일보 뉴스데이터셋 분류 스터디\n",
        "https://yceffort.kr/2019/01/28/pytorch-2-multi-perceptron(3)"
      ]
    },
    {
      "cell_type": "markdown",
      "metadata": {
        "id": "nWDNP6fhMN-W"
      },
      "source": [
        "# 네이버기사 분류 실습(LSTM)"
      ]
    },
    {
      "cell_type": "code",
      "metadata": {
        "id": "xDnaw0TxMWSG"
      },
      "source": [
        ""
      ],
      "execution_count": null,
      "outputs": []
    }
  ]
}